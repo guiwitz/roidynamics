{
 "cells": [
  {
   "cell_type": "markdown",
   "id": "bf3b6612-c35e-4869-ba79-b2ca1f45202b",
   "metadata": {},
   "source": [
    "# Create roi"
   ]
  },
  {
   "cell_type": "code",
   "execution_count": 1,
   "id": "4a96919f-0484-4a96-9d67-d77a03a96195",
   "metadata": {},
   "outputs": [],
   "source": [
    "import skimage.morphology\n",
    "import skimage.io\n",
    "import numpy as np\n",
    "from microfilm.dataset import MultipageTIFF\n",
    "import matplotlib.pyplot as plt"
   ]
  },
  {
   "cell_type": "code",
   "execution_count": 2,
   "id": "e8a8626b-2d93-49ac-9597-29c47334c8ca",
   "metadata": {},
   "outputs": [],
   "source": [
    "image_path = 'test_folders/test_multipage_good/'\n",
    "image = MultipageTIFF(image_path)"
   ]
  },
  {
   "cell_type": "markdown",
   "id": "de22ed62-8b74-481a-8452-d6de6c71d1fc",
   "metadata": {},
   "source": [
    "## Single roi"
   ]
  },
  {
   "cell_type": "code",
   "execution_count": 3,
   "id": "76b4cb16-8f03-4d05-b304-5b6d4e8586fd",
   "metadata": {},
   "outputs": [],
   "source": [
    "roi = np.zeros(image.dims, dtype=np.uint8)\n",
    "roi[70,90] = 1\n",
    "roi = 255*skimage.morphology.binary_dilation(roi, skimage.morphology.disk(10)).astype(np.uint8)\n",
    "skimage.io.imsave('test_folders/test_multipage_good/roi.bmp', roi, check_contrast=False)"
   ]
  },
  {
   "cell_type": "code",
   "execution_count": 4,
   "id": "e84d9f49-9dee-4801-9b5b-8f1928d3c862",
   "metadata": {},
   "outputs": [
    {
     "data": {
      "image/png": "[encoded data removed]",
      "text/plain": [
       "<Figure size 432x288 with 1 Axes>"
      ]
     },
     "metadata": {
      "needs_background": "light"
     },
     "output_type": "display_data"
    }
   ],
   "source": [
    "plt.imshow(roi);"
   ]
  },
  {
   "cell_type": "markdown",
   "id": "bcbb23cc-596f-4e75-bebb-ab0a59f69cc3",
   "metadata": {},
   "source": [
    "## Multi roi"
   ]
  },
  {
   "cell_type": "code",
   "execution_count": 5,
   "id": "246ddb2d-9863-40cf-bd6f-05e82e7beba5",
   "metadata": {},
   "outputs": [],
   "source": [
    "roi = np.zeros(image.dims, dtype=np.uint8)\n",
    "roi[30,90] = 1\n",
    "roi[90,50] = 1\n",
    "roi[130,80] = 1\n",
    "roi[90,130] = 1\n",
    "roi = 255*skimage.morphology.binary_dilation(roi, skimage.morphology.disk(10)).astype(np.uint8)\n",
    "skimage.io.imsave('test_folders/test_multipage_good/multiroi.bmp', roi, check_contrast=False)"
   ]
  },
  {
   "cell_type": "code",
   "execution_count": 6,
   "id": "865c44d8-325d-4925-a00b-0be5457a312a",
   "metadata": {},
   "outputs": [
    {
     "data": {
      "image/png": "[encoded data removed]",
      "text/plain": [
       "<Figure size 432x288 with 1 Axes>"
      ]
     },
     "metadata": {
      "needs_background": "light"
     },
     "output_type": "display_data"
    }
   ],
   "source": [
    "plt.imshow(roi);"
   ]
  },
  {
   "cell_type": "code",
   "execution_count": null,
   "id": "d684f479-6b48-43f7-b0a5-d9d2e82253d4",
   "metadata": {},
   "outputs": [],
   "source": []
  }
 ],
 "metadata": {
  "kernelspec": {
   "display_name": "Python 3",
   "language": "python",
   "name": "python3"
  },
  "language_info": {
   "codemirror_mode": {
    "name": "ipython",
    "version": 3
   },
   "file_extension": ".py",
   "mimetype": "text/x-python",
   "name": "python",
   "nbconvert_exporter": "python",
   "pygments_lexer": "ipython3",
   "version": "3.9.5"
  },
  "widgets": {
   "application/vnd.jupyter.widget-state+json": {
    "state": {},
    "version_major": 2,
    "version_minor": 0
   }
  }
 },
 "nbformat": 4,
 "nbformat_minor": 5
}
