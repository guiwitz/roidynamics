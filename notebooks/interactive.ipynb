{
 "cells": [
  {
   "cell_type": "markdown",
   "id": "1af4737f-f950-4c15-8940-029b245f8fce",
   "metadata": {},
   "source": [
    "# Interactive plotting\n",
    "\n",
    "When working within a notebook, you can use the interactive version of Matplotlib combined with the ```ipywidgets``` package to create interactive animations of the analysis. Here we reproduce the analyis shown in the [main documentation](Intensity_by_sector.ipynb) and then create such an interactive plot.\n",
    "\n",
    "The first important step is to activate the interactive version of Matplotlib:"
   ]
  },
  {
   "cell_type": "code",
   "execution_count": 1,
   "id": "8b630b28-0454-41b0-87dd-f062c627aa37",
   "metadata": {},
   "outputs": [],
   "source": [
    "%matplotlib widget"
   ]
  },
  {
   "cell_type": "code",
   "execution_count": 2,
   "id": "a43a47a9-8608-416b-b005-7a1f6bff6948",
   "metadata": {},
   "outputs": [],
   "source": [
    "import matplotlib.pyplot as plt\n",
    "import numpy as np\n",
    "import skimage.io\n",
    "\n",
    "import matplotlib\n",
    "cmap = matplotlib.colors.ListedColormap(np.random.rand(256,3))\n",
    "\n",
    "from microfilm.dataset import MultipageTIFF\n",
    "import microfilm.microplot\n",
    "from roidynamics import splitmask\n",
    "\n",
    "import ipywidgets as ipw"
   ]
  },
  {
   "cell_type": "markdown",
   "id": "a87220d8-9d40-41ad-ba32-3430d1282bea",
   "metadata": {},
   "source": [
    "Then we run the main analysis as usual:"
   ]
  },
  {
   "cell_type": "code",
   "execution_count": 3,
   "id": "9ca2c9c4-9873-4ab9-9534-13043d8660bb",
   "metadata": {},
   "outputs": [],
   "source": [
    "image_path = '../roidynamics/tests/test_folders/test_multipage_good/'\n",
    "roi_path = '../roidynamics//tests/test_folders/test_multipage_good/roi.bmp'\n",
    "\n",
    "image = MultipageTIFF(image_path)\n",
    "roi = skimage.io.imread(roi_path)\n",
    "\n",
    "cm = splitmask.get_roi_cm(roi_im=roi)\n",
    "\n",
    "im_np = image.load_frame(channel_name=image.channel_name[0], frame=20)\n",
    "\n",
    "angular_width = 20\n",
    "max_rad =50\n",
    "sector_labels = splitmask.create_sector_mask(center=cm, im_dims=image.dims,\n",
    "                                                     angular_width=angular_width, max_rad=max_rad)\n",
    "colors_angle, cmap_angle = splitmask.get_cmap_labels(sector_labels, cmap_name='viridis')\n",
    "\n",
    "channel = image.channel_name[1]\n",
    "\n",
    "signal_angle = splitmask.measure_intensities(image, channels=channel, \n",
    "                                                     im_labels=sector_labels,max_time=51)\n"
   ]
  },
  {
   "cell_type": "markdown",
   "id": "43a8c7c9-a422-4ab3-b65d-e78fea4cb8b1",
   "metadata": {},
   "source": [
    "Finally, we use the ```interactive``` function of ```ipywidgets``` to update the plot when moving a slider:"
   ]
  },
  {
   "cell_type": "code",
   "execution_count": 4,
   "id": "b9de5156-6f2d-4787-85cc-65d5ec3f72cc",
   "metadata": {},
   "outputs": [
    {
     "data": {
      "application/vnd.jupyter.widget-view+json": {
       "model_id": "9bfb617e341c47de850a7dae9661c441",
       "version_major": 2,
       "version_minor": 0
      },
      "text/plain": [
       "Canvas(toolbar=Toolbar(toolitems=[('Home', 'Reset original view', 'home', 'home'), ('Back', 'Back to previous …"
      ]
     },
     "metadata": {},
     "output_type": "display_data"
    },
    {
     "data": {
      "application/vnd.jupyter.widget-view+json": {
       "model_id": "9b6a73f78c5c4fc5b07198f38826653e",
       "version_major": 2,
       "version_minor": 0
      },
      "text/plain": [
       "interactive(children=(IntSlider(value=0, description='t', max=50), Output()), _dom_classes=('widget-interact',…"
      ]
     },
     "metadata": {},
     "output_type": "display_data"
    }
   ],
   "source": [
    "fig, ax = plt.subplots(1,2, figsize=(8,4))\n",
    "splitmask.plot_sectors(image, sector_labels, cmap=cmap_angle, ax=ax[0], channel=image.channel_name[1])\n",
    "splitmask.plot_signals(signal_angle, color_array=colors_angle, ax=ax[1])  \n",
    "time_line = ax[1].plot([0,0],[signal_angle.min(), signal_angle.max()],'-r')\n",
    "plt.tight_layout()\n",
    "\n",
    "def plot_sectors_time(t):\n",
    "    ax[0].get_images()[0].set_data(image.load_frame(image.channel_name[1],t)) \n",
    "    time_line[0].set_xdata([t,t])\n",
    "    \n",
    "ipw.interactive(plot_sectors_time, t=ipw.IntSlider(value=0, min=0, max=image.max_time-1))"
   ]
  },
  {
   "cell_type": "code",
   "execution_count": null,
   "id": "7aa20e63-9a89-418c-a569-532d0fd4797e",
   "metadata": {},
   "outputs": [],
   "source": []
  }
 ],
 "metadata": {
  "kernelspec": {
   "display_name": "Python 3",
   "language": "python",
   "name": "python3"
  },
  "language_info": {
   "codemirror_mode": {
    "name": "ipython",
    "version": 3
   },
   "file_extension": ".py",
   "mimetype": "text/x-python",
   "name": "python",
   "nbconvert_exporter": "python",
   "pygments_lexer": "ipython3",
   "version": "3.9.5"
  },
  "widgets": {
   "application/vnd.jupyter.widget-state+json": {
    "state": {
     "2314f199193f4baf8c4c8cf7318b35fd": {
      "model_module": "@jupyter-widgets/base",
      "model_module_version": "1.2.0",
      "model_name": "LayoutModel",
      "state": {}
     },
     "2738efaecfcd45efb8206627bb77469a": {
      "model_module": "@jupyter-widgets/base",
      "model_module_version": "1.2.0",
      "model_name": "LayoutModel",
      "state": {}
     },
     "2a5d96bfb7284cff9010c72e06bd47a0": {
      "model_module": "@jupyter-widgets/base",
      "model_module_version": "1.2.0",
      "model_name": "LayoutModel",
      "state": {}
     },
     "2f75fe0914dd429fa5dbfea3c0094cb3": {
      "model_module": "@jupyter-widgets/controls",
      "model_module_version": "1.5.0",
      "model_name": "IntSliderModel",
      "state": {
       "description": "t",
       "layout": "IPY_MODEL_9760181117604444a7db844a6627e344",
       "max": 50,
       "style": "IPY_MODEL_4aaf8e81927845c3ba654503c944fbfd"
      }
     },
     "43db0dc371714d0e86b79a6f234e25a3": {
      "model_module": "@jupyter-widgets/base",
      "model_module_version": "1.2.0",
      "model_name": "LayoutModel",
      "state": {}
     },
     "4aaf8e81927845c3ba654503c944fbfd": {
      "model_module": "@jupyter-widgets/controls",
      "model_module_version": "1.5.0",
      "model_name": "SliderStyleModel",
      "state": {
       "description_width": ""
      }
     },
     "73df194429e1430abd37a44bc0c40909": {
      "model_module": "jupyter-matplotlib",
      "model_module_version": "^0.9.0",
      "model_name": "ToolbarModel",
      "state": {
       "layout": "IPY_MODEL_2314f199193f4baf8c4c8cf7318b35fd",
       "toolitems": [
        [
         "Home",
         "Reset original view",
         "home",
         "home"
        ],
        [
         "Back",
         "Back to previous view",
         "arrow-left",
         "back"
        ],
        [
         "Forward",
         "Forward to next view",
         "arrow-right",
         "forward"
        ],
        [
         "Pan",
         "Left button pans, Right button zooms\nx/y fixes axis, CTRL fixes aspect",
         "arrows",
         "pan"
        ],
        [
         "Zoom",
         "Zoom to rectangle\nx/y fixes axis, CTRL fixes aspect",
         "square-o",
         "zoom"
        ],
        [
         "Download",
         "Download plot",
         "floppy-o",
         "save_figure"
        ]
       ]
      }
     },
     "7506e6dc4b804324bc33483d9a6d1bb3": {
      "model_module": "@jupyter-widgets/output",
      "model_module_version": "1.0.0",
      "model_name": "OutputModel",
      "state": {
       "layout": "IPY_MODEL_2738efaecfcd45efb8206627bb77469a"
      }
     },
     "9760181117604444a7db844a6627e344": {
      "model_module": "@jupyter-widgets/base",
      "model_module_version": "1.2.0",
      "model_name": "LayoutModel",
      "state": {}
     },
     "9b6a73f78c5c4fc5b07198f38826653e": {
      "model_module": "@jupyter-widgets/controls",
      "model_module_version": "1.5.0",
      "model_name": "VBoxModel",
      "state": {
       "_dom_classes": [
        "widget-interact"
       ],
       "children": [
        "IPY_MODEL_2f75fe0914dd429fa5dbfea3c0094cb3",
        "IPY_MODEL_7506e6dc4b804324bc33483d9a6d1bb3"
       ],
       "layout": "IPY_MODEL_2a5d96bfb7284cff9010c72e06bd47a0"
      }
     },
     "9bfb617e341c47de850a7dae9661c441": {
      "model_module": "jupyter-matplotlib",
      "model_module_version": "^0.9.0",
      "model_name": "MPLCanvasModel",
      "state": {
       "_cursor": "default",
       "_figure_label": "Figure 1",
       "_height": 400,
       "_width": 800,
       "layout": "IPY_MODEL_43db0dc371714d0e86b79a6f234e25a3",
       "toolbar": "IPY_MODEL_73df194429e1430abd37a44bc0c40909",
       "toolbar_position": "left"
      }
     }
    },
    "version_major": 2,
    "version_minor": 0
   }
  }
 },
 "nbformat": 4,
 "nbformat_minor": 5
}
