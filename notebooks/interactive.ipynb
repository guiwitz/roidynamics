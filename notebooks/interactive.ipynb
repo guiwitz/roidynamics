{
 "cells": [
  {
   "cell_type": "markdown",
   "id": "1af4737f-f950-4c15-8940-029b245f8fce",
   "metadata": {},
   "source": [
    "# Interactive plotting\n",
    "\n",
    "When working within a notebook, you can use the interactive version of Matplotlib combined with the ```ipywidgets``` package to create interactive animations of the analysis. Here we reproduce the analyis shown in the [main documentation](Intensity_by_sector.ipynb) and then create such an interactive plot.\n",
    "\n",
    "The first important step is to activate the interactive version of Matplotlib:"
   ]
  },
  {
   "cell_type": "code",
   "execution_count": 1,
   "id": "8b630b28-0454-41b0-87dd-f062c627aa37",
   "metadata": {},
   "outputs": [],
   "source": [
    "%matplotlib widget"
   ]
  },
  {
   "cell_type": "code",
   "execution_count": 2,
   "id": "a43a47a9-8608-416b-b005-7a1f6bff6948",
   "metadata": {},
   "outputs": [],
   "source": [
    "import matplotlib.pyplot as plt\n",
    "import numpy as np\n",
    "import skimage.io\n",
    "\n",
    "import matplotlib\n",
    "cmap = matplotlib.colors.ListedColormap(np.random.rand(256,3))\n",
    "\n",
    "from microfilm.dataset import MultipageTIFF\n",
    "import microfilm.microplot\n",
    "from splitmask import splitmask\n",
    "\n",
    "import ipywidgets as ipw"
   ]
  },
  {
   "cell_type": "markdown",
   "id": "a87220d8-9d40-41ad-ba32-3430d1282bea",
   "metadata": {},
   "source": [
    "Then we run the main analysis as usual:"
   ]
  },
  {
   "cell_type": "code",
   "execution_count": 6,
   "id": "9ca2c9c4-9873-4ab9-9534-13043d8660bb",
   "metadata": {},
   "outputs": [],
   "source": [
    "image_path = '../splitmask/tests/test_folders/test_multipage_good/'\n",
    "roi_path = '../splitmask//tests/test_folders/test_multipage_good/roi.bmp'\n",
    "\n",
    "image = MultipageTIFF(image_path)\n",
    "roi = skimage.io.imread(roi_path)\n",
    "\n",
    "cm = splitmask.get_roi_cm(roi_im=roi)\n",
    "\n",
    "im_np = image.load_frame(channel_name=image.channel_name[0], frame=20)\n",
    "\n",
    "angular_width = 20\n",
    "max_rad =50\n",
    "sector_labels = splitmask.create_sector_mask(center=cm, im_dims=image.dims,\n",
    "                                                     angular_width=angular_width, max_rad=max_rad)\n",
    "colors_angle, cmap_angle = splitmask.get_cmap_labels(sector_labels, cmap_name='viridis')\n",
    "\n",
    "channel = image.channel_name[1]\n",
    "\n",
    "signal_angle = splitmask.measure_intensities(time_image=image.frame_generator(channel=channel), \n",
    "                                                     im_labels=sector_labels,max_time=300)\n"
   ]
  },
  {
   "cell_type": "markdown",
   "id": "43a8c7c9-a422-4ab3-b65d-e78fea4cb8b1",
   "metadata": {},
   "source": [
    "Finally, we use the ```interactive``` function of ```ipywidgets``` to update the plot when moving a slider:"
   ]
  },
  {
   "cell_type": "code",
   "execution_count": 8,
   "id": "b9de5156-6f2d-4787-85cc-65d5ec3f72cc",
   "metadata": {},
   "outputs": [
    {
     "data": {
      "application/vnd.jupyter.widget-view+json": {
       "model_id": "9f04da34a7624459855baf8b04b46b67",
       "version_major": 2,
       "version_minor": 0
      },
      "text/plain": [
       "Canvas(toolbar=Toolbar(toolitems=[('Home', 'Reset original view', 'home', 'home'), ('Back', 'Back to previous …"
      ]
     },
     "metadata": {},
     "output_type": "display_data"
    },
    {
     "data": {
      "application/vnd.jupyter.widget-view+json": {
       "model_id": "3f0a45962503429b8b28ddd9cf6a549e",
       "version_major": 2,
       "version_minor": 0
      },
      "text/plain": [
       "interactive(children=(IntSlider(value=0, description='t', max=50), Output()), _dom_classes=('widget-interact',…"
      ]
     },
     "metadata": {},
     "output_type": "display_data"
    }
   ],
   "source": [
    "fig, ax = plt.subplots(1,2, figsize=(8,4))\n",
    "splitmask.plot_sectors(image, sector_labels, cmap=cmap_angle, ax=ax[0], channel=image.channel_name[1])\n",
    "splitmask.plot_signals(signal_angle, color_array=colors_angle, ax=ax[1])  \n",
    "time_line = ax[1].plot([0,0],[signal_angle.min(), signal_angle.max()],'-r')\n",
    "plt.tight_layout()\n",
    "\n",
    "def plot_sectors_time(t):\n",
    "    ax[0].get_images()[0].set_data(image.load_frame(image.channel_name[1],t)) \n",
    "    time_line[0].set_xdata([t,t])\n",
    "    \n",
    "ipw.interactive(plot_sectors_time, t=ipw.IntSlider(value=0, min=0, max=image.max_time-1))"
   ]
  },
  {
   "cell_type": "code",
   "execution_count": null,
   "id": "7aa20e63-9a89-418c-a569-532d0fd4797e",
   "metadata": {},
   "outputs": [],
   "source": []
  }
 ],
 "metadata": {
  "kernelspec": {
   "display_name": "Python 3",
   "language": "python",
   "name": "python3"
  },
  "language_info": {
   "codemirror_mode": {
    "name": "ipython",
    "version": 3
   },
   "file_extension": ".py",
   "mimetype": "text/x-python",
   "name": "python",
   "nbconvert_exporter": "python",
   "pygments_lexer": "ipython3",
   "version": "3.9.5"
  },
  "widgets": {
   "application/vnd.jupyter.widget-state+json": {
    "state": {
     "01cbeb9ddb3648e48f781024e72f6b7e": {
      "model_module": "@jupyter-widgets/controls",
      "model_module_version": "1.5.0",
      "model_name": "SliderStyleModel",
      "state": {
       "description_width": ""
      }
     },
     "0d1a9758b0b24330939451bf42b68d5a": {
      "model_module": "@jupyter-widgets/base",
      "model_module_version": "1.2.0",
      "model_name": "LayoutModel",
      "state": {}
     },
     "0f691c42e98e47a98a77265ef6e72fb3": {
      "model_module": "@jupyter-widgets/base",
      "model_module_version": "1.2.0",
      "model_name": "LayoutModel",
      "state": {}
     },
     "1131264942de47c085a898c1d12c4187": {
      "model_module": "@jupyter-widgets/base",
      "model_module_version": "1.2.0",
      "model_name": "LayoutModel",
      "state": {}
     },
     "19ded9d268144cbcad45dfba463a3334": {
      "model_module": "jupyter-matplotlib",
      "model_module_version": "^0.9.0",
      "model_name": "ToolbarModel",
      "state": {
       "layout": "IPY_MODEL_86a68b9b815a40f39559c4f37f633d5f",
       "toolitems": [
        [
         "Home",
         "Reset original view",
         "home",
         "home"
        ],
        [
         "Back",
         "Back to previous view",
         "arrow-left",
         "back"
        ],
        [
         "Forward",
         "Forward to next view",
         "arrow-right",
         "forward"
        ],
        [
         "Pan",
         "Left button pans, Right button zooms\nx/y fixes axis, CTRL fixes aspect",
         "arrows",
         "pan"
        ],
        [
         "Zoom",
         "Zoom to rectangle\nx/y fixes axis, CTRL fixes aspect",
         "square-o",
         "zoom"
        ],
        [
         "Download",
         "Download plot",
         "floppy-o",
         "save_figure"
        ]
       ]
      }
     },
     "1ac9da6a16f64de5b23316b5843f342a": {
      "model_module": "jupyter-matplotlib",
      "model_module_version": "^0.9.0",
      "model_name": "ToolbarModel",
      "state": {
       "layout": "IPY_MODEL_d7ef014ffe2a4fb7b1049ee50152a3d5",
       "toolitems": [
        [
         "Home",
         "Reset original view",
         "home",
         "home"
        ],
        [
         "Back",
         "Back to previous view",
         "arrow-left",
         "back"
        ],
        [
         "Forward",
         "Forward to next view",
         "arrow-right",
         "forward"
        ],
        [
         "Pan",
         "Left button pans, Right button zooms\nx/y fixes axis, CTRL fixes aspect",
         "arrows",
         "pan"
        ],
        [
         "Zoom",
         "Zoom to rectangle\nx/y fixes axis, CTRL fixes aspect",
         "square-o",
         "zoom"
        ],
        [
         "Download",
         "Download plot",
         "floppy-o",
         "save_figure"
        ]
       ]
      }
     },
     "200b0da653be4a7fb95602e529e06553": {
      "model_module": "@jupyter-widgets/base",
      "model_module_version": "1.2.0",
      "model_name": "LayoutModel",
      "state": {}
     },
     "20bd00f401cb478b9d0e97ae917951d7": {
      "model_module": "@jupyter-widgets/controls",
      "model_module_version": "1.5.0",
      "model_name": "IntSliderModel",
      "state": {
       "description": "t",
       "layout": "IPY_MODEL_b8565176ff2443d6807d1b5eb15ef6f1",
       "max": 50,
       "style": "IPY_MODEL_98931b783c0f4eeeb488205e90c08e70"
      }
     },
     "2347b424ccaa440eb57daf1baef6bcf7": {
      "model_module": "@jupyter-widgets/base",
      "model_module_version": "1.2.0",
      "model_name": "LayoutModel",
      "state": {}
     },
     "2e106e2c3d4a4a9e8ed38807e595ae89": {
      "model_module": "jupyter-matplotlib",
      "model_module_version": "^0.9.0",
      "model_name": "ToolbarModel",
      "state": {
       "layout": "IPY_MODEL_6217275acb15490a872c45e283805f63",
       "toolitems": [
        [
         "Home",
         "Reset original view",
         "home",
         "home"
        ],
        [
         "Back",
         "Back to previous view",
         "arrow-left",
         "back"
        ],
        [
         "Forward",
         "Forward to next view",
         "arrow-right",
         "forward"
        ],
        [
         "Pan",
         "Left button pans, Right button zooms\nx/y fixes axis, CTRL fixes aspect",
         "arrows",
         "pan"
        ],
        [
         "Zoom",
         "Zoom to rectangle\nx/y fixes axis, CTRL fixes aspect",
         "square-o",
         "zoom"
        ],
        [
         "Download",
         "Download plot",
         "floppy-o",
         "save_figure"
        ]
       ]
      }
     },
     "2ee3e34655304b2c923e16c718ae8be2": {
      "model_module": "@jupyter-widgets/controls",
      "model_module_version": "1.5.0",
      "model_name": "IntSliderModel",
      "state": {
       "description": "t",
       "layout": "IPY_MODEL_200b0da653be4a7fb95602e529e06553",
       "max": 50,
       "style": "IPY_MODEL_01cbeb9ddb3648e48f781024e72f6b7e"
      }
     },
     "35765d6cd5bd4e2ab35932caefa948de": {
      "model_module": "@jupyter-widgets/output",
      "model_module_version": "1.0.0",
      "model_name": "OutputModel",
      "state": {
       "layout": "IPY_MODEL_0d1a9758b0b24330939451bf42b68d5a"
      }
     },
     "3f0a45962503429b8b28ddd9cf6a549e": {
      "model_module": "@jupyter-widgets/controls",
      "model_module_version": "1.5.0",
      "model_name": "VBoxModel",
      "state": {
       "_dom_classes": [
        "widget-interact"
       ],
       "children": [
        "IPY_MODEL_2ee3e34655304b2c923e16c718ae8be2",
        "IPY_MODEL_d09e46cf8f4445cb87cbca1384301983"
       ],
       "layout": "IPY_MODEL_cd183661fcf9427bb687db069d691c83"
      }
     },
     "5223b02daba940ed871d20d5ad2925d4": {
      "model_module": "@jupyter-widgets/output",
      "model_module_version": "1.0.0",
      "model_name": "OutputModel",
      "state": {
       "layout": "IPY_MODEL_bb59226b85e2458db8e7d6da64d8b7e5"
      }
     },
     "6217275acb15490a872c45e283805f63": {
      "model_module": "@jupyter-widgets/base",
      "model_module_version": "1.2.0",
      "model_name": "LayoutModel",
      "state": {}
     },
     "63d11bdba1504891a3664d4f188c5f91": {
      "model_module": "@jupyter-widgets/base",
      "model_module_version": "1.2.0",
      "model_name": "LayoutModel",
      "state": {}
     },
     "6754ff66c3104737b735508bd8e9720e": {
      "model_module": "jupyter-matplotlib",
      "model_module_version": "^0.9.0",
      "model_name": "MPLCanvasModel",
      "state": {
       "_cursor": "default",
       "_figure_label": "Figure 2",
       "_height": 400,
       "_width": 800,
       "layout": "IPY_MODEL_1131264942de47c085a898c1d12c4187",
       "toolbar": "IPY_MODEL_2e106e2c3d4a4a9e8ed38807e595ae89",
       "toolbar_position": "left"
      }
     },
     "706723b22156409a82b122283147aebc": {
      "model_module": "@jupyter-widgets/controls",
      "model_module_version": "1.5.0",
      "model_name": "IntSliderModel",
      "state": {
       "description": "t",
       "layout": "IPY_MODEL_0f691c42e98e47a98a77265ef6e72fb3",
       "max": 50,
       "style": "IPY_MODEL_712be481f4504cfe90ef20a40f6c924a"
      }
     },
     "712be481f4504cfe90ef20a40f6c924a": {
      "model_module": "@jupyter-widgets/controls",
      "model_module_version": "1.5.0",
      "model_name": "SliderStyleModel",
      "state": {
       "description_width": ""
      }
     },
     "732b80c654a24f96bcb21a3f8767f52c": {
      "model_module": "jupyter-matplotlib",
      "model_module_version": "^0.9.0",
      "model_name": "MPLCanvasModel",
      "state": {
       "_cursor": "default",
       "_figure_label": "Figure 1",
       "_height": 400,
       "_image_mode": "diff",
       "_width": 800,
       "layout": "IPY_MODEL_f4b5ae9594394b1a932131e388cfa586",
       "toolbar": "IPY_MODEL_19ded9d268144cbcad45dfba463a3334",
       "toolbar_position": "left"
      }
     },
     "7caa329d25d344a4add01c0babba9be9": {
      "model_module": "@jupyter-widgets/base",
      "model_module_version": "1.2.0",
      "model_name": "LayoutModel",
      "state": {}
     },
     "86a68b9b815a40f39559c4f37f633d5f": {
      "model_module": "@jupyter-widgets/base",
      "model_module_version": "1.2.0",
      "model_name": "LayoutModel",
      "state": {}
     },
     "8859f05729494b429e67bb5710eca1fe": {
      "model_module": "@jupyter-widgets/base",
      "model_module_version": "1.2.0",
      "model_name": "LayoutModel",
      "state": {}
     },
     "8c310a703d524beeb2a3235784214a1e": {
      "model_module": "@jupyter-widgets/base",
      "model_module_version": "1.2.0",
      "model_name": "LayoutModel",
      "state": {}
     },
     "91bbc3cac04e4bb7bdfab7dad91db29a": {
      "model_module": "@jupyter-widgets/controls",
      "model_module_version": "1.5.0",
      "model_name": "VBoxModel",
      "state": {
       "_dom_classes": [
        "widget-interact"
       ],
       "children": [
        "IPY_MODEL_ff042853f4794c4eab088923eabf2894",
        "IPY_MODEL_5223b02daba940ed871d20d5ad2925d4"
       ],
       "layout": "IPY_MODEL_63d11bdba1504891a3664d4f188c5f91"
      }
     },
     "98931b783c0f4eeeb488205e90c08e70": {
      "model_module": "@jupyter-widgets/controls",
      "model_module_version": "1.5.0",
      "model_name": "SliderStyleModel",
      "state": {
       "description_width": ""
      }
     },
     "9f04da34a7624459855baf8b04b46b67": {
      "model_module": "jupyter-matplotlib",
      "model_module_version": "^0.9.0",
      "model_name": "MPLCanvasModel",
      "state": {
       "_cursor": "default",
       "_figure_label": "Figure 4",
       "_height": 400,
       "_image_mode": "diff",
       "_width": 800,
       "layout": "IPY_MODEL_8859f05729494b429e67bb5710eca1fe",
       "toolbar": "IPY_MODEL_1ac9da6a16f64de5b23316b5843f342a",
       "toolbar_position": "left"
      }
     },
     "b6086f3cd1314887844b633492e2ee0c": {
      "model_module": "@jupyter-widgets/base",
      "model_module_version": "1.2.0",
      "model_name": "LayoutModel",
      "state": {}
     },
     "b6326fa12d664212a271c2461095dda4": {
      "model_module": "@jupyter-widgets/base",
      "model_module_version": "1.2.0",
      "model_name": "LayoutModel",
      "state": {}
     },
     "b8565176ff2443d6807d1b5eb15ef6f1": {
      "model_module": "@jupyter-widgets/base",
      "model_module_version": "1.2.0",
      "model_name": "LayoutModel",
      "state": {}
     },
     "bb59226b85e2458db8e7d6da64d8b7e5": {
      "model_module": "@jupyter-widgets/base",
      "model_module_version": "1.2.0",
      "model_name": "LayoutModel",
      "state": {}
     },
     "c229b05edc8c411ca0be605a4c6367c6": {
      "model_module": "jupyter-matplotlib",
      "model_module_version": "^0.9.0",
      "model_name": "MPLCanvasModel",
      "state": {
       "_cursor": "default",
       "_figure_label": "Figure 3",
       "_height": 400,
       "_width": 800,
       "layout": "IPY_MODEL_b6086f3cd1314887844b633492e2ee0c",
       "toolbar": "IPY_MODEL_d99b64e02b8f4bad9ad1b3e6d9c3e5dc",
       "toolbar_position": "left"
      }
     },
     "c5d6170a7c1a4438aea375ebfa836334": {
      "model_module": "@jupyter-widgets/output",
      "model_module_version": "1.0.0",
      "model_name": "OutputModel",
      "state": {
       "layout": "IPY_MODEL_ff38be0c885f4b7d99e2be8c7b62bd1d"
      }
     },
     "cd183661fcf9427bb687db069d691c83": {
      "model_module": "@jupyter-widgets/base",
      "model_module_version": "1.2.0",
      "model_name": "LayoutModel",
      "state": {}
     },
     "d09e46cf8f4445cb87cbca1384301983": {
      "model_module": "@jupyter-widgets/output",
      "model_module_version": "1.0.0",
      "model_name": "OutputModel",
      "state": {
       "layout": "IPY_MODEL_7caa329d25d344a4add01c0babba9be9"
      }
     },
     "d26e6dc4268f433a969e9b1ef148b258": {
      "model_module": "@jupyter-widgets/controls",
      "model_module_version": "1.5.0",
      "model_name": "SliderStyleModel",
      "state": {
       "description_width": ""
      }
     },
     "d7ebfbcfc0254bb48a5c86b0214e4eb6": {
      "model_module": "@jupyter-widgets/base",
      "model_module_version": "1.2.0",
      "model_name": "LayoutModel",
      "state": {}
     },
     "d7ef014ffe2a4fb7b1049ee50152a3d5": {
      "model_module": "@jupyter-widgets/base",
      "model_module_version": "1.2.0",
      "model_name": "LayoutModel",
      "state": {}
     },
     "d99b64e02b8f4bad9ad1b3e6d9c3e5dc": {
      "model_module": "jupyter-matplotlib",
      "model_module_version": "^0.9.0",
      "model_name": "ToolbarModel",
      "state": {
       "layout": "IPY_MODEL_b6326fa12d664212a271c2461095dda4",
       "toolitems": [
        [
         "Home",
         "Reset original view",
         "home",
         "home"
        ],
        [
         "Back",
         "Back to previous view",
         "arrow-left",
         "back"
        ],
        [
         "Forward",
         "Forward to next view",
         "arrow-right",
         "forward"
        ],
        [
         "Pan",
         "Left button pans, Right button zooms\nx/y fixes axis, CTRL fixes aspect",
         "arrows",
         "pan"
        ],
        [
         "Zoom",
         "Zoom to rectangle\nx/y fixes axis, CTRL fixes aspect",
         "square-o",
         "zoom"
        ],
        [
         "Download",
         "Download plot",
         "floppy-o",
         "save_figure"
        ]
       ]
      }
     },
     "f4b5ae9594394b1a932131e388cfa586": {
      "model_module": "@jupyter-widgets/base",
      "model_module_version": "1.2.0",
      "model_name": "LayoutModel",
      "state": {}
     },
     "f9c10dae78ba466d9649e3c4ff9f1466": {
      "model_module": "@jupyter-widgets/controls",
      "model_module_version": "1.5.0",
      "model_name": "VBoxModel",
      "state": {
       "_dom_classes": [
        "widget-interact"
       ],
       "children": [
        "IPY_MODEL_20bd00f401cb478b9d0e97ae917951d7",
        "IPY_MODEL_c5d6170a7c1a4438aea375ebfa836334"
       ],
       "layout": "IPY_MODEL_d7ebfbcfc0254bb48a5c86b0214e4eb6"
      }
     },
     "fdda4ca9697441ee8a56e82bbc28b122": {
      "model_module": "@jupyter-widgets/controls",
      "model_module_version": "1.5.0",
      "model_name": "VBoxModel",
      "state": {
       "_dom_classes": [
        "widget-interact"
       ],
       "children": [
        "IPY_MODEL_706723b22156409a82b122283147aebc",
        "IPY_MODEL_35765d6cd5bd4e2ab35932caefa948de"
       ],
       "layout": "IPY_MODEL_2347b424ccaa440eb57daf1baef6bcf7"
      }
     },
     "ff042853f4794c4eab088923eabf2894": {
      "model_module": "@jupyter-widgets/controls",
      "model_module_version": "1.5.0",
      "model_name": "IntSliderModel",
      "state": {
       "description": "t",
       "layout": "IPY_MODEL_8c310a703d524beeb2a3235784214a1e",
       "max": 50,
       "style": "IPY_MODEL_d26e6dc4268f433a969e9b1ef148b258"
      }
     },
     "ff38be0c885f4b7d99e2be8c7b62bd1d": {
      "model_module": "@jupyter-widgets/base",
      "model_module_version": "1.2.0",
      "model_name": "LayoutModel",
      "state": {}
     }
    },
    "version_major": 2,
    "version_minor": 0
   }
  }
 },
 "nbformat": 4,
 "nbformat_minor": 5
}
